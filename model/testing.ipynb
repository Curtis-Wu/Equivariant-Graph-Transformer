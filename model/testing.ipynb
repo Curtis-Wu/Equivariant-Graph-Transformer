{
 "cells": [
  {
   "cell_type": "markdown",
   "metadata": {},
   "source": [
    "### Testing with pre-trained EGNN"
   ]
  },
  {
   "cell_type": "code",
   "execution_count": 23,
   "metadata": {},
   "outputs": [],
   "source": [
    "import torch\n",
    "import EGNN\n",
    "import dataset_ani1"
   ]
  },
  {
   "cell_type": "code",
   "execution_count": 24,
   "metadata": {},
   "outputs": [
    {
     "data": {
      "text/plain": [
       "<All keys matched successfully>"
      ]
     },
     "execution_count": 24,
     "metadata": {},
     "output_type": "execute_result"
    }
   ],
   "source": [
    "model = EGNN.EGNN(\n",
    "    hidden_channels=256, in_edge_nf=0,\n",
    "    n_layers=5, residual=True, \n",
    "    attention=True, normalize=True, \n",
    "    tanh=False, max_atom_type=28, \n",
    "    cutoff=5.0, max_num_neighbors=32\n",
    ")\n",
    "\n",
    "pretrained_dict = torch.load('model.pth', map_location=torch.device('cpu'))\n",
    "\n",
    "model.load_state_dict(pretrained_dict)"
   ]
  },
  {
   "cell_type": "code",
   "execution_count": 25,
   "metadata": {},
   "outputs": [],
   "source": [
    "from torch.nn.functional import mse_loss\n",
    "def rmse_loss(input, target):\n",
    "    \"\"\"\n",
    "    Calculate the Root Mean Squared Error between the predicted and target tensors.\n",
    "    \"\"\"\n",
    "    return torch.sqrt(mse_loss(input, target))"
   ]
  },
  {
   "cell_type": "code",
   "execution_count": 28,
   "metadata": {},
   "outputs": [
    {
     "name": "stdout",
     "output_type": "stream",
     "text": [
      "reading: ani1_gdb10_ts.h5\n",
      "# molecules: 138\n",
      "# train conformations: 8416\n",
      "# valid conformations: 966\n",
      "# test conformations: 966\n",
      "960\n"
     ]
    },
    {
     "data": {
      "text/plain": [
       "2111.1462646484374"
      ]
     },
     "execution_count": 28,
     "metadata": {},
     "output_type": "execute_result"
    },
    {
     "ename": "",
     "evalue": "",
     "output_type": "error",
     "traceback": [
      "\u001b[1;31mThe Kernel crashed while executing code in the the current cell or a previous cell. Please review the code in the cell(s) to identify a possible cause of the failure. Click <a href='https://aka.ms/vscodeJupyterKernelCrash'>here</a> for more info. View Jupyter <a href='command:jupyter.viewOutput'>log</a> for further details."
     ]
    }
   ],
   "source": [
    "from torch.nn import MSELoss\n",
    "\n",
    "data_dir = '../Data'  # Replace with the actual path to your dataset\n",
    "batch_size = 32\n",
    "num_workers = 4\n",
    "valid_size = 0.1\n",
    "test_size = 0.1\n",
    "seed = 42  # For reproducibility\n",
    "\n",
    "# Instantiate the wrapper\n",
    "dataset_wrapper = dataset_ani1.ANI1Wrapper(\n",
    "    batch_size=batch_size,\n",
    "    num_workers=num_workers,\n",
    "    valid_size=valid_size,\n",
    "    test_size=test_size,\n",
    "    data_dir=data_dir,\n",
    "    seed=seed\n",
    ")\n",
    "# Obtain the data loaders\n",
    "train_loader, valid_loader, test_loader = dataset_wrapper.get_data_loaders()\n",
    "\n",
    "# Now you can use train_loader, valid_loader, and test_loader in your training and evaluation loops.\n",
    "model.eval()\n",
    "loss_function = MSELoss()\n",
    "\n",
    "accumulated_loss = 0.0\n",
    "total_samples = 0\n",
    "\n",
    "for batch in valid_loader:\n",
    "    # Extract data and move tensors to the same device as the model\n",
    "    # Assuming your model and data are on the same device (CPU or CUDA)\n",
    "    # If your batch contains more than these two elements, unpack accordingly\n",
    "    inputs, pos, batch_index = batch.x, batch.pos, batch.batch\n",
    "    targets = batch.y\n",
    "    # Forward pass: compute predicted outputs by passing inputs to the model\n",
    "    outputs = model(inputs, pos, batch_index)\n",
    "\n",
    "    predictions = outputs if isinstance(outputs, torch.Tensor) else outputs[0]\n",
    "    # Compute the loss\n",
    "    loss = rmse_loss(predictions, targets)\n",
    "    # Update the total loss and the number of samples\n",
    "    accumulated_loss += loss.item() * targets.size(0)  # Multiply by batch size\n",
    "    total_samples += targets.size(0)\n",
    "\n",
    "print(total_samples)\n",
    "# Calculate the average loss over all of the batches\n",
    "average_loss = accumulated_loss / total_samples\n",
    "average_loss"
   ]
  },
  {
   "cell_type": "code",
   "execution_count": null,
   "metadata": {},
   "outputs": [],
   "source": []
  }
 ],
 "metadata": {
  "kernelspec": {
   "display_name": "general",
   "language": "python",
   "name": "python3"
  },
  "language_info": {
   "codemirror_mode": {
    "name": "ipython",
    "version": 3
   },
   "file_extension": ".py",
   "mimetype": "text/x-python",
   "name": "python",
   "nbconvert_exporter": "python",
   "pygments_lexer": "ipython3",
   "version": "3.8.18"
  }
 },
 "nbformat": 4,
 "nbformat_minor": 2
}
