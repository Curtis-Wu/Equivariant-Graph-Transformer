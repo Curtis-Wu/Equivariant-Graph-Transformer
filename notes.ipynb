{
 "cells": [
  {
   "cell_type": "markdown",
   "metadata": {},
   "source": [
    "# Graph-Transformer Molecular-Descriptors"
   ]
  },
  {
   "cell_type": "markdown",
   "metadata": {},
   "source": [
    "### Things to consider / Hyperparameters:\n",
    "\n",
    "1. d_model: the dimension of the embeddings\n",
    "2. num_heads: the number of heads in the self-attention module.\n",
    "3. drop_prob: probability to drop neurons.\n",
    "4. max_sequence_length: the max length of the input sequence\n",
    "5. ffn_hidden: the maximum number of neurons in a ffn hidden layer.\n",
    "6. num_encoder = number of encoder units in the structure.\n",
    "\n",
    "![Alt text](./images/Input%20Molecular%20Data%20(1).jpg)"
   ]
  },
  {
   "cell_type": "markdown",
   "metadata": {},
   "source": [
    "$$Attention(Q,K,V) = softmax(\\frac{QK^T}{\\sqrt{d_k}})V$$"
   ]
  },
  {
   "cell_type": "code",
   "execution_count": 1,
   "metadata": {},
   "outputs": [],
   "source": [
    "import torch\n",
    "from torch_geometric.datasets import ZINC"
   ]
  },
  {
   "cell_type": "code",
   "execution_count": 8,
   "metadata": {},
   "outputs": [],
   "source": [
    "dataset = ZINC(root = \"./Data/zinc_data\")"
   ]
  },
  {
   "cell_type": "code",
   "execution_count": 6,
   "metadata": {},
   "outputs": [
    {
     "name": "stdout",
     "output_type": "stream",
     "text": [
      "220011\n"
     ]
    }
   ],
   "source": [
    "print(len(dataset))\n",
    "first_data = dataset[0]"
   ]
  },
  {
   "cell_type": "code",
   "execution_count": 12,
   "metadata": {},
   "outputs": [
    {
     "name": "stdout",
     "output_type": "stream",
     "text": [
      "tensor([3.0464])\n",
      "tensor([0.4907])\n",
      "tensor([1.0851])\n",
      "tensor([-1.9355])\n",
      "tensor([1.5754])\n",
      "tensor([0.0451])\n",
      "tensor([-1.0224])\n",
      "tensor([-0.1079])\n",
      "tensor([2.5177])\n",
      "tensor([1.1925])\n"
     ]
    }
   ],
   "source": [
    "for _ in range(10):\n",
    "    print(dataset[_].y)"
   ]
  },
  {
   "cell_type": "code",
   "execution_count": 11,
   "metadata": {},
   "outputs": [
    {
     "data": {
      "text/plain": [
       "tensor([1.0851])"
      ]
     },
     "execution_count": 11,
     "metadata": {},
     "output_type": "execute_result"
    }
   ],
   "source": [
    "dataset[2].y"
   ]
  },
  {
   "cell_type": "code",
   "execution_count": null,
   "metadata": {},
   "outputs": [],
   "source": []
  }
 ],
 "metadata": {
  "kernelspec": {
   "display_name": "general",
   "language": "python",
   "name": "python3"
  },
  "language_info": {
   "codemirror_mode": {
    "name": "ipython",
    "version": 3
   },
   "file_extension": ".py",
   "mimetype": "text/x-python",
   "name": "python",
   "nbconvert_exporter": "python",
   "pygments_lexer": "ipython3",
   "version": "3.11.5"
  }
 },
 "nbformat": 4,
 "nbformat_minor": 2
}
