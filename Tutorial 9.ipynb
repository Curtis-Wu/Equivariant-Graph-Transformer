{
 "cells": [
  {
   "cell_type": "markdown",
   "metadata": {},
   "source": [
    "# Chem 277B FA23 Tutorial 9\n",
    "____\n",
    "## Outline \n",
    "\n",
    "* Savio Account Setup\n",
    "* MNIST Dataset for HW7\n",
    "* Big picture of the ANI project\n",
    "* Understanding the data structure of ANI dataset\n",
    "* Implementing atomic environment vector (AEV) calculator in ANI models with numpy\n",
    "* ModuleDict\n",
    "\n",
    "### References\n",
    "* ANI-1: an extensible neural network potential with DFT accuracy at force field computational cost<br> ([Article](https://pubs.rsc.org/en/content/articlepdf/2017/sc/c6sc05720a), [SI](http://www.rsc.org/suppdata/c6/sc/c6sc05720a/c6sc05720a1.pdf), [Dataset](https://doi.org/10.6084/m9.figshare.c.3846712.v1)),\n",
    "\n",
    "____\n"
   ]
  },
  {
   "cell_type": "markdown",
   "metadata": {},
   "source": [
    "## 0. Collecting Questions for Next Week\n",
    "\n",
    "* \n",
    "* \n",
    "\n",
    "____"
   ]
  },
  {
   "cell_type": "markdown",
   "metadata": {},
   "source": [
    "## 1. Savio Account Setup\n",
    "\n",
    "* request a savio account: https://docs-research-it.berkeley.edu/services/high-performance-computing/getting-account/#setting-up-a-mybrc-user-portal-account\n",
    "* request to join the project named `ic_chem277b` (maybe not available at this moment. will send further notice.)\n",
    "\n",
    "* resources about logging in and OTP setup: https://docs-research-it.berkeley.edu/services/high-performance-computing/user-guide/logging-brc-clusters/\n",
    "\n",
    "We will cover more about requesting gpu nodes and submitting jobs next time. Stay Tuned!\n",
    "___"
   ]
  },
  {
   "cell_type": "markdown",
   "metadata": {},
   "source": [
    "## 2. MNIST Dataset\n",
    "\n",
    "In this hw, you are going to explore the famouse MNIST Dataset. Here, we will peak into this dataset to see what's in it and how we can make predictions based on the input."
   ]
  },
  {
   "cell_type": "code",
   "execution_count": null,
   "metadata": {},
   "outputs": [],
   "source": [
    "import pickle\n",
    "(train_X, train_y), (test_X, test_y) = pickle.load(open(\"mnist.pkl\", \"rb\"))\n",
    " \n",
    "#shape of dataset\n",
    "print('X_train: ' + str(train_X.shape))\n",
    "print('Y_train: ' + str(train_y.shape))\n",
    "print('X_test:  '  + str(test_X.shape))\n",
    "print('Y_test:  '  + str(test_y.shape))\n",
    " \n",
    "#plotting\n",
    "import matplotlib.pyplot as plt\n",
    "%matplotlib inline\n",
    "plt.figure()\n",
    "for i in range(9):  \n",
    "    plt.subplot(3,3,i+1)\n",
    "    plt.imshow(train_X[i], cmap=plt.get_cmap('gray'))"
   ]
  },
  {
   "cell_type": "markdown",
   "metadata": {},
   "source": [
    "_______\n",
    "## 3. Understanding data organization"
   ]
  },
  {
   "cell_type": "markdown",
   "metadata": {},
   "source": [
    "https://github.com/isayev/ANI1_dataset.git\n",
    "Adapted from example_data_sampler.py"
   ]
  },
  {
   "cell_type": "markdown",
   "metadata": {},
   "source": [
    "*Run in terminal*\n",
    "\n",
    "1. First, let's navigate to the scratch folder where we don't have a data cap [NEED TO CHANGE USER NAME]  \n",
    "\n",
    "`cd /global/scratch/users/user_name/`  \n",
    "  \n",
    "2. Then, let's create a new folder for our project  \n",
    "\n",
    "`mkdir ANI-dataset`\n",
    "\n",
    "3. Then, we can go in this folder and download the dataset from the github page  \n",
    "\n",
    "`cd ani-project`  \n",
    "`wget https://figshare.com/ndownloader/files/9057631`  \n",
    "\n",
    "Once the download is finished, we can rename the file from `9057631` to be `ANI-1_release.tar.gz`.  \n",
    "\n",
    "4. The tar.gz file is like a zip file where all the data are compressed, we can extract this dataset through\n",
    "\n",
    "`tar -xvzf ANI-1_release.tar.gz`\n",
    "\n",
    "Now, in your scratch folder, you should be able to click into a folder called \"ANI-1_release\" and you will find your data in it.\n",
    "\n",
    "5. Upload the `pyanitools.py` file to the same folder `ANI-dataset`\n",
    "\n",
    "6. Here, we basically have set up the dataset and necessary tools to process the dataset. We need one final step of creating a new virtual environment for this ANI project. [NEED TO CHANGE USER NAME] \n",
    "\n",
    "`conda create -p /global/scratch/users/user_name/envs/ani python==3.10`  \n",
    "`conda activate /global/scratch/users/user_name/envs/ani`\n",
    "\n",
    "7. Let's install all the necessary packages for the project\n",
    "\n",
    "`conda install numpy matplotlib seaborn scipy scikit-learn ipykernel`  \n",
    "`ipython kernel install --user --name=ani`  \n",
    "`conda install -c conda-forge torchani`  \n",
    "`pip3 install torch torchvision torchaudio --index-url https://download.pytorch.org/whl/cu118`\n"
   ]
  },
  {
   "cell_type": "code",
   "execution_count": 1,
   "metadata": {},
   "outputs": [
    {
     "ename": "ModuleNotFoundError",
     "evalue": "No module named 'pyanitools'",
     "output_type": "error",
     "traceback": [
      "\u001b[0;31m---------------------------------------------------------------------------\u001b[0m",
      "\u001b[0;31mModuleNotFoundError\u001b[0m                       Traceback (most recent call last)",
      "\u001b[0;32m<ipython-input-1-1c068158c51e>\u001b[0m in \u001b[0;36m<module>\u001b[0;34m\u001b[0m\n\u001b[1;32m      1\u001b[0m \u001b[0;32mimport\u001b[0m \u001b[0msys\u001b[0m\u001b[0;34m\u001b[0m\u001b[0;34m\u001b[0m\u001b[0m\n\u001b[0;32m----> 2\u001b[0;31m \u001b[0;32mimport\u001b[0m \u001b[0mpyanitools\u001b[0m \u001b[0;32mas\u001b[0m \u001b[0mpya\u001b[0m\u001b[0;34m\u001b[0m\u001b[0;34m\u001b[0m\u001b[0m\n\u001b[0m\u001b[1;32m      3\u001b[0m \u001b[0;34m\u001b[0m\u001b[0m\n\u001b[1;32m      4\u001b[0m \u001b[0;31m# Set the HDF5 file containing the data\u001b[0m\u001b[0;34m\u001b[0m\u001b[0;34m\u001b[0m\u001b[0;34m\u001b[0m\u001b[0m\n\u001b[1;32m      5\u001b[0m \u001b[0mhdf5file\u001b[0m \u001b[0;34m=\u001b[0m \u001b[0;34m'/global/scratch/users/ozhang/ANI-1_c142/ANI-1_release/ani_gdb_s01.h5'\u001b[0m\u001b[0;34m\u001b[0m\u001b[0;34m\u001b[0m\u001b[0m\n",
      "\u001b[0;31mModuleNotFoundError\u001b[0m: No module named 'pyanitools'"
     ]
    }
   ],
   "source": [
    "import sys\n",
    "sys.path.append(\"/global/scratch/users/kysun/ANI-dataset\")\n",
    "import pyanitools as pya\n",
    "\n",
    "# Set the HDF5 file containing the data\n",
    "hdf5file = '/global/scratch/users/kysun/ANI-dataset/ANI-1_release/ani_gdb_s01.h5'\n",
    "\n",
    "# Construct the data loader class\n",
    "adl = pya.anidataloader(hdf5file)\n",
    "\n",
    "# Print the species of the data set one by one\n",
    "for data in adl:\n",
    "#     print(data.keys())\n",
    "\n",
    "    # Extract the data\n",
    "    P = data['path']\n",
    "    X = data['coordinates']\n",
    "    E = data['energies']\n",
    "    S = data['species']\n",
    "    sm = data['smiles']\n",
    "\n",
    "    # Print the data\n",
    "    print(\"Path:   \", P)\n",
    "    print(\"  Smiles:      \",\"\".join(sm))\n",
    "    print(\"  Symbols:     \", S)\n",
    "    print(\"  Coordinates: \", X.shape)\n",
    "    print(\"  Energies:    \", E.shape, \"\\n\")\n",
    "\n",
    "# Closes the H5 data file\n",
    "adl.cleanup()"
   ]
  },
  {
   "cell_type": "markdown",
   "metadata": {},
   "source": [
    "### Use Iterator to get data"
   ]
  },
  {
   "cell_type": "code",
   "execution_count": null,
   "metadata": {},
   "outputs": [],
   "source": [
    "from pyanitools import anidataloader\n",
    "data = anidataloader(\"/global/scratch/users/kysun/ANI-dataset/ANI-1_release/ani_gdb_s01.h5\")\n",
    "data_iter = data.__iter__()"
   ]
  },
  {
   "cell_type": "code",
   "execution_count": null,
   "metadata": {},
   "outputs": [],
   "source": [
    "mols = next(data_iter)\n",
    "# Extract the data\n",
    "P = mols['path']\n",
    "X = mols['coordinates']\n",
    "E = mols['energies'] #energies are in hartree\n",
    "S = mols['species']\n",
    "sm = mols['smiles']\n",
    "\n",
    "# Print the data\n",
    "print(\"Path:   \", P)\n",
    "print(\"  Smiles:      \",\"\".join(sm))\n",
    "print(\"  Symbols:     \", S)\n",
    "print(\"  Coordinates: \", X.shape)\n",
    "print(\"  Energies:    \", E.shape, \"\\n\")\n"
   ]
  },
  {
   "cell_type": "markdown",
   "metadata": {},
   "source": [
    "How many molecules and conformations are there?"
   ]
  },
  {
   "cell_type": "code",
   "execution_count": null,
   "metadata": {},
   "outputs": [],
   "source": [
    "data_iter = data.__iter__()\n",
    "count = 0\n",
    "count_conf = 0\n",
    "for mol in data_iter:\n",
    "    count+=1\n",
    "    count_conf += len(mol['energies'])\n",
    "print(count)\n",
    "print(count_conf)"
   ]
  },
  {
   "cell_type": "code",
   "execution_count": null,
   "metadata": {},
   "outputs": [],
   "source": [
    "data.cleanup()"
   ]
  },
  {
   "cell_type": "markdown",
   "metadata": {},
   "source": [
    "## AEV and implementation\n",
    "https://github.com/isayev/ASE_ANI.git\n",
    "\n",
    "### Understanding symmetric functions\n",
    "Requirements for the representation of atomic environments:\n",
    "1. Translational invariance\n",
    "2. Rotational invariance\n",
    "3. Atomic permutation invariance\n",
    "![](molecule.jpg)\n",
    "\n",
    "#### Distance conversion function\n",
    "$$\n",
    "f_{\\mathrm{C}}\\left(R_{i j}\\right)=\\left\\{\\begin{array}{cl}0.5 \\times \\cos \\left(\\frac{\\pi R_{i j}}{R_{\\mathrm{C}}}\\right)+0.5 & \\text { for } R_{i j} \\leq R_{\\mathrm{C}} \\\\ 0.0 & \\text { for } R_{i j}>R_{\\mathrm{C}}\\end{array}\\right.\n",
    "$$\n",
    "Free parameter: $R_C$\n",
    "\n",
    "Literature values: \n",
    "* Radial cutoff   $R_C^{radial}=5.2Å$\n",
    "* Angular cutoff $R_C^{angular}=3.5Å$\n",
    "\n",
    "#### Radial environment components\n",
    "$$\n",
    "G_{m}^{\\mathrm{R}}=\\sum_{j \\neq i}^{\\text {all atoms }} \\mathrm{e}^{-\\eta\\left(R_{i j}-R_{s}\\right)^{2}} f_{\\mathrm{C}}\\left(R_{i j}\\right)\n",
    "$$\n",
    "Free parameters: $\\{\\eta, R_s\\}$\n",
    "\n",
    "Literature values:\n",
    "* $\\eta^{radial}=16$\n",
    "* $R_s^{radial}\\in\\{0.900000, 1.168750, 1.437500, 1.706250, 1.975000, 2.243750, 2.51250,\n",
    " 2.781250, 3.050000, 3.318750, 3.587500, 3.856250, 4.125000, 4.39375,\n",
    "4.662500, 4.931250\\}Å$\n",
    "\n",
    "#### Angular environment components\n",
    "$$\n",
    "G_{m}^{A_{\\text {mod }}}=2^{1-\\zeta} \\sum_{j, k \\neq i}^{\\text {all atoms }}\\left(1+\\cos \\left(\\theta_{i j k}-\\theta_{s}\\right)\\right)^{\\zeta} \\times \\exp \\left[-\\eta\\left(\\frac{R_{i j}+R_{i k}}{2}-R_{s}\\right)^{2}\\right] f_{\\mathrm{C}}\\left(R_{i j}\\right) f_{\\mathrm{C}}\\left(R_{i k}\\right)\n",
    "$$<br>\n",
    "Free parameters: $\\{\\zeta, \\theta_s, \\eta, R_s\\}$\n",
    "\n",
    "Literature values:\n",
    "* $\\zeta=32$\n",
    "* $\\theta_s \\in \\{0.19634954, 0.58904862,0. 9817477, 1.3744468, 1.7671459,\n",
    "2.1598449, 2.552544, 2.945243\\}$\n",
    "* $\\eta^{angular}=8$\n",
    "* $R_s^{angular}\\in\\{0.900000, 1.550000, 2.200000, 2.850000\\}Å$"
   ]
  },
  {
   "cell_type": "code",
   "execution_count": null,
   "metadata": {
    "jupyter": {
     "source_hidden": true
    }
   },
   "outputs": [],
   "source": [
    "import numpy as np\n",
    "\n",
    "\n",
    "def calc_f_C(Rij, RC):\n",
    "    f_C_value = 0.5 * np.cos(np.pi * Rij / RC) + 0.5\n",
    "    # Make f_C(0)=0 to make sure the sum in distance conversion function \n",
    "    # and radial conversion function can run with j=i\n",
    "    indicator = ((Rij <= RC) & (Rij != 0)).astype(float) \n",
    "    return f_C_value * indicator\n",
    "    \n",
    "\n",
    "def radial_component(Rijs, eta, Rs, RC=5.2):\n",
    "    # Rijs is a 1d array, all other parameters are scalars\n",
    "    f_C_values = calc_f_C(Rijs, RC)\n",
    "    individual_components = np.exp(-eta * (Rijs - Rs) ** 2) * f_C_values\n",
    "    return np.sum(individual_components)\n",
    "\n",
    "def angular_component(Rij_vectors, Rik_vectors, zeta, theta_s, eta, Rs, RC=3.5):\n",
    "    # Rij_vectors and Rik_vectors are 2d arrays with shape (n_atoms, 3), all other parameters are scalars\n",
    "    # calculate theta_ijk values from vector operations\n",
    "    dot_products = Rij_vectors.dot(Rik_vectors.T)\n",
    "    Rij_norms = np.linalg.norm(Rij_vectors, axis=-1)\n",
    "    Rik_norms = np.linalg.norm(Rik_vectors, axis=-1)\n",
    "    norms = Rij_norms.reshape((-1, 1)).dot(Rik_norms.reshape((1, -1)))\n",
    "    cos_values = np.clip(dot_products / (norms + 1e-8), -1, 1)\n",
    "    theta_ijks = np.arccos(cos_values)\n",
    "    theta_ijk_filter = (theta_ijks != 0).astype(float)\n",
    "    mean_dists = (Rij_norms.reshape((-1, 1)) + Rik_norms.reshape((1, -1))) / 2\n",
    "    f_C_values_Rij = calc_f_C(Rij_norms, RC)\n",
    "    f_C_values_Rik = calc_f_C(Rik_norms, RC)\n",
    "    f_C_values = f_C_values_Rij.reshape((-1, 1)).dot(f_C_values_Rik.reshape((1, -1)))\n",
    "    individual_components = (1 + np.cos(theta_ijks - theta_s)) ** zeta * \\\n",
    "        np.exp(-eta * (mean_dists - Rs) ** 2) * f_C_values * theta_ijk_filter\n",
    "    return 2 ** (1 - zeta) * np.sum(individual_components)\n",
    "\n",
    "def calc_aev(atom_types, coords, i_index):\n",
    "    # atom_types are np.array of ints\n",
    "    relative_coordinates = coords - coords[i_index]\n",
    "    nearby_atom_indicator = np.linalg.norm(relative_coordinates, axis=-1) < 5.3\n",
    "    relative_coordinates = relative_coordinates[nearby_atom_indicator]\n",
    "    atom_types = atom_types[nearby_atom_indicator]\n",
    "    radial_aev = np.array([radial_component(np.linalg.norm(relative_coordinates[atom_types == atom], \n",
    "                                                           axis=-1), eta, Rs) \\\n",
    "                           for atom in [0, 1, 2, 3] for eta in [16] \\\n",
    "                           for Rs in [0.900000,1.168750,1.437500,1.706250,1.975000,2.243750,2.51250,2.781250,3.050000,\\\n",
    "                                   3.318750,3.587500,3.856250,4.125000,4.39375,4.662500,4.931250]])\n",
    "    angular_aev = np.array([angular_component(relative_coordinates[atom_types == atom_j], \n",
    "                                              relative_coordinates[atom_types == atom_k],\\\n",
    "                                             zeta, theta_s, eta, Rs) \\\n",
    "                            for atom_j in [0, 1, 2, 3] for atom_k in range(atom_j, 4) for zeta in [32] \\\n",
    "                            for theta_s in [0.19634954,0.58904862,0.9817477,1.3744468,1.7671459,2.1598449,2.552544,2.945243]\\\n",
    "                            for eta in [8] for Rs in [0.900000,1.550000,2.200000,2.850000]])\n",
    "    print(len(radial_aev), len(angular_aev))\n",
    "    return np.concatenate([radial_aev, angular_aev])\n",
    "\n",
    "        "
   ]
  },
  {
   "cell_type": "markdown",
   "metadata": {},
   "source": [
    "### Distance Conversion function"
   ]
  },
  {
   "cell_type": "code",
   "execution_count": null,
   "metadata": {},
   "outputs": [],
   "source": [
    "import numpy as np\n",
    "import matplotlib.pyplot as plt\n",
    "r_ij = np.linspace(0,10,500)\n",
    "rc = 5.2\n",
    "plt.plot(r_ij,[calc_f_C(r,rc)for r in r_ij])"
   ]
  },
  {
   "cell_type": "markdown",
   "metadata": {},
   "source": [
    "### Visualizing AEVs"
   ]
  },
  {
   "cell_type": "code",
   "execution_count": null,
   "metadata": {},
   "outputs": [],
   "source": [
    "mapping={\"H\":0, \"C\":1, \"N\":2, \"O\":3}"
   ]
  },
  {
   "cell_type": "code",
   "execution_count": null,
   "metadata": {},
   "outputs": [],
   "source": [
    "elements= np.array([mapping[atom] for atom in S])\n",
    "elements"
   ]
  },
  {
   "cell_type": "code",
   "execution_count": null,
   "metadata": {},
   "outputs": [],
   "source": []
  },
  {
   "cell_type": "markdown",
   "metadata": {},
   "source": [
    "Let's plot the AEV for the same atom in different conformation"
   ]
  },
  {
   "cell_type": "code",
   "execution_count": null,
   "metadata": {},
   "outputs": [],
   "source": [
    "plt.plot(calc_aev(elements, X[0], 2), label=\"conf1\", alpha=0.6)\n",
    "plt.plot(calc_aev(elements, X[10], 2), label=\"conf2\", alpha=0.6, ls=\"--\")\n",
    "plt.legend()"
   ]
  },
  {
   "cell_type": "markdown",
   "metadata": {},
   "source": [
    "AEV implemented in pytorch  \n",
    "https://github.com/aiqm/torchani.git"
   ]
  },
  {
   "cell_type": "code",
   "execution_count": 1,
   "metadata": {},
   "outputs": [],
   "source": [
    "import torchani\n",
    "import torch\n",
    "\n",
    "Rcr = 5.2\n",
    "Rca = 3.5\n",
    "EtaR = torch.tensor([16], dtype=torch.float)\n",
    "ShfR = torch.tensor([0.900000,1.168750,1.437500,1.706250,1.975000,2.243750,2.51250,2.781250,3.050000,\\\n",
    "                            3.318750,3.587500,3.856250,4.125000,4.39375,4.662500,4.931250], dtype=torch.float)\n",
    "EtaA= torch.tensor([8], dtype=torch.float)\n",
    "Zeta = torch.tensor([32], dtype=torch.float)\n",
    "ShfA = torch.tensor([0.900000,1.550000,2.200000,2.850000], dtype=torch.float)\n",
    "ShfZ = torch.tensor([0.19634954,0.58904862,0.9817477,1.3744468,1.7671459,2.1598449,2.552544,2.945243], \n",
    "                    dtype=torch.float)\n",
    "num_species = 4\n",
    "aev_computer = torchani.AEVComputer(Rcr, Rca, EtaR, \n",
    "                                    ShfR, EtaA, Zeta, ShfA, ShfZ, num_species)"
   ]
  },
  {
   "cell_type": "code",
   "execution_count": 2,
   "metadata": {},
   "outputs": [
    {
     "ename": "NameError",
     "evalue": "name 'elements' is not defined",
     "output_type": "error",
     "traceback": [
      "\u001b[0;31m---------------------------------------------------------------------------\u001b[0m",
      "\u001b[0;31mNameError\u001b[0m                                 Traceback (most recent call last)",
      "\u001b[1;32m/home/arimelf/MSSE/CHEM277B/Graph-Transformer-Bioactivity-Predictor/Tutorial 9.ipynb Cell 28\u001b[0m line \u001b[0;36m1\n\u001b[0;32m----> <a href='vscode-notebook-cell://wsl%2Bubuntu/home/arimelf/MSSE/CHEM277B/Graph-Transformer-Bioactivity-Predictor/Tutorial%209.ipynb#X36sdnNjb2RlLXJlbW90ZQ%3D%3D?line=0'>1</a>\u001b[0m aevs \u001b[39m=\u001b[39m aev_computer\u001b[39m.\u001b[39mforward((torch\u001b[39m.\u001b[39mtensor(elements\u001b[39m.\u001b[39mreshape(\u001b[39m1\u001b[39m, \u001b[39m-\u001b[39m\u001b[39m1\u001b[39m), dtype\u001b[39m=\u001b[39mtorch\u001b[39m.\u001b[39mlong), \n\u001b[1;32m      <a href='vscode-notebook-cell://wsl%2Bubuntu/home/arimelf/MSSE/CHEM277B/Graph-Transformer-Bioactivity-Predictor/Tutorial%209.ipynb#X36sdnNjb2RlLXJlbW90ZQ%3D%3D?line=1'>2</a>\u001b[0m                              torch\u001b[39m.\u001b[39mtensor(X[\u001b[39m10\u001b[39m]\u001b[39m.\u001b[39mreshape(\u001b[39m1\u001b[39m, \u001b[39m-\u001b[39m\u001b[39m1\u001b[39m, \u001b[39m3\u001b[39m), dtype\u001b[39m=\u001b[39mtorch\u001b[39m.\u001b[39mfloat)))\n",
      "\u001b[0;31mNameError\u001b[0m: name 'elements' is not defined"
     ]
    }
   ],
   "source": [
    "aevs = aev_computer.forward((torch.tensor(elements.reshape(1, -1), dtype=torch.long), \n",
    "                             torch.tensor(X[10].reshape(1, -1, 3), dtype=torch.float)))"
   ]
  },
  {
   "cell_type": "code",
   "execution_count": null,
   "metadata": {},
   "outputs": [],
   "source": [
    "plt.plot(aevs[1].numpy()[0, 2])"
   ]
  },
  {
   "cell_type": "markdown",
   "metadata": {},
   "source": [
    "## Network as a sum of sub-networks using ModuleDict"
   ]
  },
  {
   "cell_type": "code",
   "execution_count": null,
   "metadata": {},
   "outputs": [],
   "source": [
    "class ANI(nn.Module):\n",
    "    def __init__(self):\n",
    "        super().__init__()\n",
    "        self.sub_nets = nn.ModuleDict({\"C\": ANI_sub([architecture]), \"H\": ANI_sub([architecture],...)})\n",
    "\n",
    "    def forward(self, aevs, atom_types):\n",
    "        atomic_energies = ...\n",
    "        \n",
    "        total_energies = torch.sum(atomic_energies,dim=...)\n",
    "        return total_eneirgies\n",
    "\n",
    "class ANI_sub(nn.Module):\n",
    "    def __init__(self, architecture):\n",
    "        super().__init__()\n",
    "        ...\n",
    "\n",
    "    def forward(self, aev):\n",
    "        atomic_energy = ...\n",
    "        return atomic_energy\n"
   ]
  },
  {
   "cell_type": "markdown",
   "metadata": {},
   "source": [
    "## General suggestions for final project\n",
    "* Read the paper\n",
    "    * Atomic \"self energies\" are subtracted from the molecular energies; thus we are effectively learning the energy difference to a reference state.\n",
    "* Test the workflow on small amount of data first (up to 2 heavy atoms)\n",
    "* Tuning hyperparameters and finalizing architecture with a little more data.\n",
    "* Final production run on full data ( to be defined based on resource to be provided)\n",
    "* Save intermediate result!!! (https://pytorch.org/tutorials/beginner/saving_loading_models.html)\n"
   ]
  }
 ],
 "metadata": {
  "kernelspec": {
   "display_name": "Python 3",
   "language": "python",
   "name": "python3"
  },
  "language_info": {
   "codemirror_mode": {
    "name": "ipython",
    "version": 3
   },
   "file_extension": ".py",
   "mimetype": "text/x-python",
   "name": "python",
   "nbconvert_exporter": "python",
   "pygments_lexer": "ipython3",
   "version": "3.11.5"
  }
 },
 "nbformat": 4,
 "nbformat_minor": 4
}
